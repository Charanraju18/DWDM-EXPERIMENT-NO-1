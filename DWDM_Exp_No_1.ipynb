{
  "nbformat": 4,
  "nbformat_minor": 0,
  "metadata": {
    "colab": {
      "provenance": [],
      "authorship_tag": "ABX9TyM0kPnT7Eqgu6YxF+reno2G",
      "include_colab_link": true
    },
    "kernelspec": {
      "name": "python3",
      "display_name": "Python 3"
    },
    "language_info": {
      "name": "python"
    }
  },
  "cells": [
    {
      "cell_type": "markdown",
      "metadata": {
        "id": "view-in-github",
        "colab_type": "text"
      },
      "source": [
        "<a href=\"https://colab.research.google.com/github/Charanraju18/DWDM-EXPERIMENT-NO-1/blob/main/DWDM_Exp_No_1.ipynb\" target=\"_parent\"><img src=\"https://colab.research.google.com/assets/colab-badge.svg\" alt=\"Open In Colab\"/></a>"
      ]
    },
    {
      "cell_type": "code",
      "source": [
        "import pandas as pd\n",
        "import numpy as np\n",
        "dataset = pd.read_csv(\"/content/age_salary_dataset.csv\")\n",
        "dataset"
      ],
      "metadata": {
        "id": "AEqfDNx5noa_"
      },
      "execution_count": null,
      "outputs": []
    },
    {
      "cell_type": "code",
      "source": [
        "x = dataset.iloc[:,:-1].values\n",
        "y = dataset.iloc[:,-1].values\n",
        "print(\"Independent Variables (x) : \",x)\n",
        "print(\"Dependent Variables (y) : \",y)"
      ],
      "metadata": {
        "id": "52_CBEoxraD2"
      },
      "execution_count": null,
      "outputs": []
    },
    {
      "cell_type": "code",
      "source": [
        "from sklearn.impute import SimpleImputer\n",
        "imp = SimpleImputer(missing_values=np.nan,strategy=\"mean\")\n",
        "x = imp.fit_transform(x)\n",
        "y = y.reshape(-1,1)\n",
        "y = imp.fit_transform(y)\n",
        "y = y.reshape(-1)\n",
        "print(x)\n",
        "print(y)"
      ],
      "metadata": {
        "id": "Yy1y5OUbqfeP"
      },
      "execution_count": null,
      "outputs": []
    },
    {
      "cell_type": "code",
      "source": [
        "x_df = pd.DataFrame(x,columns=dataset.columns[:-1])\n",
        "y_df = pd.DataFrame(y,columns=[dataset.columns[-1]])\n",
        "combined_data = pd.concat([x_df,y_df],axis=1)\n",
        "print(\"Combined Data : \")\n",
        "print(combined_data)"
      ],
      "metadata": {
        "id": "V4zUiygDu1v2"
      },
      "execution_count": null,
      "outputs": []
    },
    {
      "cell_type": "code",
      "source": [
        "combined_df = pd.DataFrame(combined_data,columns=list(dataset.columns))\n",
        "combined_df.to_excel(\"/content/age_salary_dataset.xlsx\",index=False)\n",
        "print(\"Combined Dataframe : \")\n",
        "print(combined_df.head())"
      ],
      "metadata": {
        "id": "ZLPMYNvSxDxm"
      },
      "execution_count": null,
      "outputs": []
    }
  ]
}